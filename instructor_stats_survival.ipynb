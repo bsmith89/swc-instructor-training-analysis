{
 "cells": [
  {
   "cell_type": "markdown",
   "metadata": {},
   "source": [
    "See auxiliary code at <https://github.com/bsmith89/swc-instructor-training-analysis> and pre-computed results at <https://bsmith89.github.io/swc-instructor-training-analysis/>."
   ]
  },
  {
   "cell_type": "code",
   "execution_count": null,
   "metadata": {
    "collapsed": true
   },
   "outputs": [],
   "source": [
    "import pandas as pd\n",
    "import numpy as np\n",
    "import patsy\n",
    "import statsmodels.api as sm\n",
    "import matplotlib.pyplot as plt\n",
    "\n",
    "%matplotlib inline\n",
    "\n",
    "def get_person_details(data):\n",
    "    data = data.sort_values('Taught')\n",
    "    certified = data.Certified.drop_duplicates()\n",
    "    assert len(certified) == 1\n",
    "    taught = data.Taught.drop_duplicates()\n",
    "    \n",
    "    try:\n",
    "        taught_first = taught.iloc[0]\n",
    "    except IndexError:\n",
    "        taught_first = np.nan\n",
    "    try:\n",
    "        taught_second = taught.iloc[1]\n",
    "    except IndexError:\n",
    "        taught_second = np.nan\n",
    "    \n",
    "    return pd.Series({'certified': certified.iloc[0],\n",
    "                      'taught_first': taught_first,\n",
    "                      'taught_second': taught_second,\n",
    "                      'taught_count': taught.notnull().sum()})"
   ]
  },
  {
   "cell_type": "code",
   "execution_count": null,
   "metadata": {
    "collapsed": false,
    "scrolled": true
   },
   "outputs": [],
   "source": [
    "raw_data = (pd.read_csv('teaching-stats-2016-05.csv')\n",
    "              .sort_values(['Person', 'Taught', 'Certified'])\n",
    "              .reindex())\n",
    "\n",
    "# Since I don't know exactly which day in May the data was collected,\n",
    "# I'm using June 1st, 2016 as the date for right censoring.\n",
    "COLLECTION_DATE = pd.datetime(year=2016, month=6, day=1)\n",
    "\n",
    "data = (raw_data.groupby('Person')\n",
    "                .apply(get_person_details))\n",
    "data.certified = pd.to_datetime(data.certified)\n",
    "data.taught_first = pd.to_datetime(data.taught_first)\n",
    "data.taught_second = pd.to_datetime(data.taught_second)\n",
    "data['has_taught'] = data.taught_first.notnull()\n",
    "\n",
    "data['time_to_taught_first'] = (data.taught_first - data.certified).dt.days\n",
    "data['time_to_taught_second'] = (data.taught_second - data.certified).dt.days\n",
    "data['year_certified'] = data.certified.dt.year\n",
    "\n",
    "data = data[(data.time_to_taught_first > 0) | data.time_to_taught_first.isnull()]"
   ]
  },
  {
   "cell_type": "code",
   "execution_count": null,
   "metadata": {
    "collapsed": false
   },
   "outputs": [],
   "source": [
    "data.taught_count.plot.hist(bins=data.taught_count.max())"
   ]
  },
  {
   "cell_type": "code",
   "execution_count": null,
   "metadata": {
    "collapsed": false
   },
   "outputs": [],
   "source": [
    "_data = data.copy()\n",
    "\n",
    "# Fill in dates for right censoring\n",
    "_data.time_to_taught_first.fillna((COLLECTION_DATE - _data.certified).dt.days, inplace=True)\n",
    "\n",
    "# Fit a proportional hazards model, comparing certification year.\n",
    "# \"Sum\" stands for sum-to-zero coding for the design matrix.\n",
    "ydm, xdm = patsy.dmatrices('time_to_taught_first ~ C(year_certified, Sum)',\n",
    "                           data=_data, return_type='dataframe')\n",
    "xdm = xdm.drop('Intercept', axis='columns')  # Remove the intercept term\n",
    "\n",
    "# Right censor for individuals who have not yet taught by the date\n",
    "# of this data collection.\n",
    "fit = sm.PHReg(ydm, xdm, status=_data.has_taught).fit()"
   ]
  },
  {
   "cell_type": "code",
   "execution_count": null,
   "metadata": {
    "collapsed": false
   },
   "outputs": [],
   "source": [
    "# I believe that, given the sum-to-zero coding in themodel,\n",
    "# the \"baseline\" cumulative hazard function should represent\n",
    "# the mean of annual means.\n",
    "sf = fit.baseline_cumulative_hazard[0]\n",
    "plt.plot(sf[0], sf[2])"
   ]
  },
  {
   "cell_type": "code",
   "execution_count": null,
   "metadata": {
    "collapsed": false
   },
   "outputs": [],
   "source": [
    "# No certification year was significantly different from the overall mean.\n",
    "fit.summary()"
   ]
  }
 ],
 "metadata": {
  "kernelspec": {
   "display_name": "Python 3",
   "language": "python",
   "name": "python3"
  },
  "language_info": {
   "codemirror_mode": {
    "name": "ipython",
    "version": 3
   },
   "file_extension": ".py",
   "mimetype": "text/x-python",
   "name": "python",
   "nbconvert_exporter": "python",
   "pygments_lexer": "ipython3",
   "version": "3.5.0"
  }
 },
 "nbformat": 4,
 "nbformat_minor": 0
}
